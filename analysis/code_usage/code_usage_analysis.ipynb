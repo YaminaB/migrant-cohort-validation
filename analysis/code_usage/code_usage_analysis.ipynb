{
 "cells": [
  {
   "cell_type": "markdown",
   "id": "1b24ba33",
   "metadata": {},
   "source": [
    "A notebook to explore migration-related code usage at the individual leve"
   ]
  },
  {
   "cell_type": "code",
   "execution_count": 1,
   "id": "7a195636",
   "metadata": {},
   "outputs": [],
   "source": [
    "import pyarrow.feather as feather\n",
    "import pandas as pd\n",
    "import numpy as np"
   ]
  },
  {
   "cell_type": "code",
   "execution_count": 6,
   "id": "a9e30a3e",
   "metadata": {},
   "outputs": [
    {
     "name": "stdout",
     "output_type": "stream",
     "text": [
      "/workspaces/migrant-cohort-validation/analysis/code_usage\n"
     ]
    }
   ],
   "source": [
    "import os\n",
    "print(os.getcwd())"
   ]
  },
  {
   "cell_type": "code",
   "execution_count": null,
   "id": "e6c9a75a",
   "metadata": {},
   "outputs": [],
   "source": [
    "migration_coding_data = feather.read_feather(\"../../output/cohorts/migration_event_level_dataset/migration_related_codes.arrow\")"
   ]
  },
  {
   "cell_type": "markdown",
   "id": "fdf0ab5d",
   "metadata": {},
   "source": [
    "Number of migration-related codes overall and annually "
   ]
  },
  {
   "cell_type": "code",
   "execution_count": 1,
   "id": "a36946fb",
   "metadata": {},
   "outputs": [
    {
     "ename": "ModuleNotFoundError",
     "evalue": "No module named 'ehrql'",
     "output_type": "error",
     "traceback": [
      "\u001b[0;31m---------------------------------------------------------------------------\u001b[0m",
      "\u001b[0;31mModuleNotFoundError\u001b[0m                       Traceback (most recent call last)",
      "Cell \u001b[0;32mIn[1], line 8\u001b[0m\n\u001b[1;32m      5\u001b[0m \u001b[38;5;28;01mif\u001b[39;00m project_root \u001b[38;5;129;01mnot\u001b[39;00m \u001b[38;5;129;01min\u001b[39;00m sys\u001b[38;5;241m.\u001b[39mpath:\n\u001b[1;32m      6\u001b[0m     sys\u001b[38;5;241m.\u001b[39mpath\u001b[38;5;241m.\u001b[39minsert(\u001b[38;5;241m0\u001b[39m, project_root)\n\u001b[0;32m----> 8\u001b[0m \u001b[38;5;28;01mfrom\u001b[39;00m \u001b[38;5;21;01mehrql\u001b[39;00m \u001b[38;5;28;01mimport\u001b[39;00m codelist_from_csv\n\u001b[1;32m     10\u001b[0m \u001b[38;5;28;01mfrom\u001b[39;00m \u001b[38;5;21;01manalysis\u001b[39;00m\u001b[38;5;21;01m.\u001b[39;00m\u001b[38;5;21;01mcreate_cohorts\u001b[39;00m\u001b[38;5;21;01m.\u001b[39;00m\u001b[38;5;21;01mcodelists\u001b[39;00m \u001b[38;5;28;01mimport\u001b[39;00m all_migrant_codes\n",
      "\u001b[0;31mModuleNotFoundError\u001b[0m: No module named 'ehrql'"
     ]
    }
   ],
   "source": [
    "import sys\n",
    "import os\n",
    "\n",
    "project_root = os.path.abspath(os.path.join(os.getcwd(), \"../..\"))\n",
    "if project_root not in sys.path:\n",
    "    sys.path.insert(0, project_root)\n",
    "\n",
    "from ehrql import codelist_from_csv\n",
    "\n",
    "from analysis.create_cohorts.codelists import all_migrant_codes\n"
   ]
  }
 ],
 "metadata": {
  "kernelspec": {
   "display_name": "venv",
   "language": "python",
   "name": "python3"
  },
  "language_info": {
   "codemirror_mode": {
    "name": "ipython",
    "version": 3
   },
   "file_extension": ".py",
   "mimetype": "text/x-python",
   "name": "python",
   "nbconvert_exporter": "python",
   "pygments_lexer": "ipython3",
   "version": "3.10.17"
  }
 },
 "nbformat": 4,
 "nbformat_minor": 5
}
